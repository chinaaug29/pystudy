{
 "cells": [
  {
   "cell_type": "code",
   "execution_count": 118,
   "metadata": {
    "collapsed": false,
    "pycharm": {
     "name": "#%%\n"
    }
   },
   "outputs": [],
   "source": [
    "scenic_spot = [\"Paris\", \"London\", \"Rome\", \"Madrid\", \"Berlin\", \"Vienna\", \"Milan\", \"Budapest\", \"Moscow\", \"Copenhagen\"]\n",
    "scenic_spotZn = [\"巴黎\", \"伦敦\", \"罗马\", \"马德里\", \"柏林\", \"维也纳\", \"米兰\", \"布达佩斯\", \"莫斯科\", \"哥本哈根\"]"
   ]
  },
  {
   "cell_type": "markdown",
   "metadata": {
    "collapsed": false,
    "pycharm": {
     "name": "#%% md\n"
    }
   },
   "source": [
    "这是format（）函数的运用列表的方法，需要注意它的格式\n",
    "## list修改、增加、删除命令\n",
    "- append()方法，在list最后添加元素\n",
    "- insert()，insert(索引, 元素内容) # 索引是插入位置，元素内容是插入内容\n",
    "- del语句删除元素，删除的元素在列表中的位置，需要知道元素在list里的索引位置\n",
    "- pop()方法,弹出列表中任何位置处的元素，只需在圆括号中指定要删除元素的索引即可\n",
    "- remove()方法，根据值删除list元素\n",
    "## list的排序\n",
    "- reverse( )颠倒排序，也可以用[::-1]方式取得列表颠倒排序\n",
    "- sort( )排序，\n",
    "    - name_list.sort( ) # 由小到大排序name_list列表\n",
    "    - name_list.sort(reverse=True) # 由大到小排序name_list列表\n",
    "- sorted( )排序，使用这个排序可以获得想要的排序结果，我们可以用新列表存储新的排序列表，同时原先列表的顺序将不更改\n",
    "  - new_list.sorted(name_list) # 用新列表存储排序，原列表序列不更改\n",
    "- len() 可快速获悉列表的长度\n",
    "- max() 最大值\n",
    "- min() 最小值\n",
    "- sum() 获得列表总和\n",
    "- index() # 这个方法可以返回特定元素内容第一次出现的索引值\n",
    "\t- 索引值 = 列表名称.index(搜寻值)  # 如果搜寻值不在列表会出现错误\n",
    "- count( )  # 这个方法可以返回特定元素内容出现的次数\n",
    "\t- 次数 = 列表名称.count(搜寻值)  # 如果搜寻值不在列表会出现错误。\n",
    "- join( )  # 这个方法可以将列表的元素组成一个字符串\n",
    "\t- char.join(seq) # seq表示参数必须是列表、元组等序列数据\n",
    "## 字符串操作符\n",
    "    - lower( )：将字符串转成小写字。\n",
    "    - upper( )：将字符串转成大写字。\n",
    "    - title( )：将字符串转成第一个字母大写，其他是小写。\n",
    "    - rstrip( )：删除字符串尾端多余的空白。\n",
    "    - lstrip( )：删除字符串开始端多余的空白。\n",
    "    - strip( )：删除字符串头尾两边多余的空白。\n",
    "    - startswith() 查询字符串是以什么开头，返回值是turn或false\n",
    "    - endswith() 查询字符串是以什么开头，返回值是turn或false\n",
    "    - find() 查询第一次出现单词的位置（偏移量）\n",
    "    - rfind() 查询最后出现单词的位置（偏移量）\n",
    "    - count( )  # 这个方法可以返回特定元素内容出现的次数\n",
    "    - isalnum() 出现所有字符是数字或字母吗？返回值是turn或false"
   ]
  },
  {
   "cell_type": "markdown",
   "metadata": {
    "collapsed": false,
    "pycharm": {
     "name": "#%% md\n"
    }
   },
   "source": [
    "## 题目\n",
    "请建立一个晚会宴客名单，有3份资料。请做一个选单，每次执行皆会列出目前邀请名单，同时有选单，如果选择1，可以增加一位邀请名单。\n",
    "如果选择2，可以删除一位邀请名单。以目前所学指令，执行程序一次只能调整一次，其他细节可以自行发挥创意。"
   ]
  },
  {
   "cell_type": "code",
   "execution_count": null,
   "metadata": {
    "collapsed": false,
    "pycharm": {
     "name": "#%%\n"
    }
   },
   "outputs": [],
   "source": [
    "banquet_list = ['十四阿哥', '十三阿哥', '康熙', '太子', '皇阿玛']\n",
    "bb_list = enumerate(banquet_list, start=1)\n",
    "bb_list1 = list(bb_list)\n",
    "print(\"宾客名单：\", banquet_list)\n",
    "T = True\n",
    "while T:\n",
    "    print(\"选择数字'2'将增加一个宾客；选择'1'将删除一位宾客;\")\n",
    "    choice_list = input(\"请输入您的选择：\")\n",
    "    if choice_list == '1':\n",
    "        print(\"现在的宾客名单是：\", bb_list1)\n",
    "        i = input(\"选择删除的数字\")\n",
    "        banquet_list1 = bb_list1.pop(int(i))\n",
    "        print(\"您选择删除了：\", banquet_list1)\n",
    "        print(bb_list1)\n",
    "    elif choice_list == '2':\n",
    "        f = input(\"请输入添加的宾客\")\n",
    "        bb_list1.append(f)\n",
    "        print(\"您增加了：%s\" % (bb_list1[-1]))\n",
    "        print(\"现在的宾客名单是：%s\" % bb_list1)\n",
    "    else:\n",
    "        T = False\n",
    "        print(\"选择错误，请输入正确的选择!\")"
   ]
  },
  {
   "cell_type": "code",
   "execution_count": 1,
   "metadata": {
    "collapsed": false,
    "pycharm": {
     "name": "#%%\n"
    }
   },
   "outputs": [
    {
     "name": "stdout",
     "output_type": "stream",
     "text": [
      "宾客名单： 1  \t十四阿哥\n",
      "宾客名单： 2  \t十三阿哥\n",
      "宾客名单： 3  \t康熙\n",
      "宾客名单： 4  \t太子\n",
      "宾客名单： 5  \t皇阿玛\n",
      "选择数字'2'增加一个宾客；选择'1'将删除一位宾客;\n",
      "您增加了：25\n",
      "现在的宾客名单是：['十四阿哥', '十三阿哥', '康熙', '太子', '皇阿玛', '25']\n",
      "选择数字'2'增加一个宾客；选择'1'将删除一位宾客;\n",
      "选择错误，请输入正确的选择!\n"
     ]
    }
   ],
   "source": [
    "banquet_list = ['十四阿哥', '十三阿哥', '康熙', '太子', '皇阿玛']\n",
    "q = 0\n",
    "for  j in banquet_list:\n",
    "    q += 1\n",
    "    print(\"宾客名单： {0:<3d}\\t{1}\".format(q,j))\n",
    "T = True\n",
    "while T:\n",
    "    print(\"选择数字'2'增加一个宾客；选择'1'将删除一位宾客;\")\n",
    "    choice_list = input(\"请输入您的选择：\")\n",
    "    if choice_list == '1':\n",
    "        print(\"现在的宾客名单是：\", banquet_list)\n",
    "        i = input(\"输入删除的宾客号码\")\n",
    "        # if i not in banquet_list: print(\"删除的宾客不在名单内！\")\n",
    "        banquet_list1 = banquet_list.pop(int(i))\n",
    "        print(\"您删除了：\", banquet_list1)\n",
    "        print(banquet_list)\n",
    "    elif choice_list == '2':\n",
    "        f = input(\"请输入添加的宾客\")\n",
    "        banquet_list.append(f)\n",
    "        print(\"您增加了：%s\" % (banquet_list[-1]))\n",
    "        print(\"现在的宾客名单是：%s\" % banquet_list)\n",
    "    else:\n",
    "        T = False\n",
    "        print(\"选择错误，请输入正确的选择!\")"
   ]
  },
  {
   "cell_type": "code",
   "execution_count": 121,
   "metadata": {
    "collapsed": false,
    "pycharm": {
     "name": "#%%\n"
    }
   },
   "outputs": [
    {
     "name": "stdout",
     "output_type": "stream",
     "text": [
      "['Paris', '伦敦', 'Rome', 'Madrid', 'Berlin', 'Vienna', 'Milan', 'Budapest', 'Moscow', 'Copenhagen']\n",
      "['Paris', 'london', 'Rome', 'Madrid', 'Berlin', 'Vienna', 'Milan', 'Budapest', 'Moscow', 'Copenhagen']\n",
      "['Paris', 'london', 'Rome', 'Madrid', 'Berlin', 'Vienna', 'Milan', 'Budapest', '上海', 'Moscow', 'Copenhagen']\n",
      "['Paris', 'london', 'Rome', 'Madrid', 'Berlin', 'Vienna', 'Milan', 'Budapest', '上海', 'Moscow', 'Copenhagen']\n",
      "['Paris', 'london', 'Rome', 'Madrid', 'Berlin', 'Vienna', 'Milan', 'Budapest', 'Moscow', 'Copenhagen']\n"
     ]
    }
   ],
   "source": [
    "scenic_spot[1] = \"伦敦\"  # 用索引的方式进行List元素的修改操作。\n",
    "print(scenic_spot)\n",
    "scenic_spot[1] = 'london'\n",
    "print(scenic_spot)\n",
    "scenic_spot.insert(8, '上海')\n",
    "print(scenic_spot)\n",
    "print(scenic_spot)\n",
    "scenic_spot.remove('上海')\n",
    "print(scenic_spot)"
   ]
  },
  {
   "cell_type": "code",
   "execution_count": null,
   "metadata": {
    "collapsed": false,
    "pycharm": {
     "name": "#%%\n"
    }
   },
   "outputs": [],
   "source": [
    "scenic_spotZn.append('london')  # 在list最后添加新的数据london\n",
    "scenic_spotZn.append('Moscow')\n",
    "print(scenic_spotZn)\n",
    "scenic_spotZn.remove('london')  # 在指定list删除指定数据london\n",
    "\n",
    "print(scenic_spotZn)\n",
    "del scenic_spotZn[-1]  # 用list索引删除数据\n",
    "new_scenic = scenic_spotZn.pop(1)  # 用list索引删除数据如果没有索引参数直接从list最后删除数据\n",
    "print(new_scenic)\n",
    "print(scenic_spotZn)"
   ]
  },
  {
   "cell_type": "code",
   "execution_count": 91,
   "metadata": {
    "collapsed": false,
    "pycharm": {
     "name": "#%%\n"
    }
   },
   "outputs": [
    {
     "name": "stdout",
     "output_type": "stream",
     "text": [
      "['Paris', 'london', 'Rome', 'Madrid', 'Berlin', 'Vienna', 'Milan', 'Budapest', 'Moscow', 'Copenhagen']\n",
      "['Berlin', 'Budapest', 'Copenhagen', 'Madrid', 'Milan', 'Moscow', 'Paris', 'Rome', 'Vienna', 'london']\n",
      "['london', 'Vienna', 'Rome', 'Paris', 'Moscow', 'Milan', 'Madrid', 'Copenhagen', 'Budapest', 'Berlin']\n"
     ]
    }
   ],
   "source": [
    "print(scenic_spot)\n",
    "scenic_spot1 = sorted(scenic_spot)  # 从小到大的顺序排列\n",
    "print(scenic_spot1)\n",
    "scenic_spot1 = sorted(scenic_spot, reverse=True)  # 增加了reverse=true参数后就是从大到小排列\n",
    "print(scenic_spot1)"
   ]
  },
  {
   "cell_type": "code",
   "execution_count": 116,
   "metadata": {
    "collapsed": false,
    "pycharm": {
     "name": "#%%\n"
    }
   },
   "outputs": [
    {
     "name": "stdout",
     "output_type": "stream",
     "text": [
      "字符串首字母大写：    London   \n",
      "字符串字母全转为大写：    LONDON   \n",
      "字符串字母全转为小写：    london   \n",
      "删除字符串前后空白 london\n",
      "列出字符串或者list最大数 100\n",
      "列出字符串或者list最小数 1\n",
      "列出者list最大数 马德里\n",
      "scenic_spot列表长度是： 10\n",
      "100索引值是:12\n",
      "print(b_str[12])=   100\n",
      "出现的次数:3次\n"
     ]
    }
   ],
   "source": [
    "a_str = \"   london   \"\n",
    "b_str = [1, 2, 3, 6, 5, 6, 55, 66, 6, 8, 1, 66, 100, ]\n",
    "print(\"字符串首字母大写：\", a_str.title())\n",
    "print(\"字符串字母全转为大写：\", a_str.upper())\n",
    "print(\"字符串字母全转为小写：\", a_str.lower())\n",
    "print(\"删除字符串前后空白\", a_str.strip())\n",
    "print(\"列出字符串或者list最大数\", max(b_str))\n",
    "print(\"列出字符串或者list最小数\", min(b_str))\n",
    "print(\"列出者list最大数\", max(scenic_spotZn))\n",
    "print(\"scenic_spot列表长度是：\", len(scenic_spot))\n",
    "a_indexes = b_str.index(100)\n",
    "print(\"100索引值是:%d\" % (a_indexes))\n",
    "print(\"print(b_str[12])=%6d\" % (b_str[12]))\n",
    "a_count = b_str.count(6)\n",
    "print(\"出现的次数:%d次\" % (a_count))"
   ]
  }
 ],
 "metadata": {
  "kernelspec": {
   "display_name": "Python 3.9.12 ('py39')",
   "language": "python",
   "name": "python3"
  },
  "language_info": {
   "codemirror_mode": {
    "name": "ipython",
    "version": 3
   },
   "file_extension": ".py",
   "mimetype": "text/x-python",
   "name": "python",
   "nbconvert_exporter": "python",
   "pygments_lexer": "ipython3",
   "version": "3.9.12"
  },
  "vscode": {
   "interpreter": {
    "hash": "a53f9004b2967cf231bcc725233179e02662bdca2dc7a6c6f48263bde11e4842"
   }
  }
 },
 "nbformat": 4,
 "nbformat_minor": 0
}
