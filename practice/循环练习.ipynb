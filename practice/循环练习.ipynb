{
 "cells": [
  {
   "cell_type": "markdown",
   "metadata": {
    "collapsed": false,
    "pycharm": {
     "name": "#%% md\n"
    }
   },
   "source": [
    "## for循环\n",
    "- for循环可以让程序将整个对象内的元素遍历(也可以称迭代)，在遍历期间，同时可以纪录或输出每次遍历的状态或称轨迹.\n",
    "- for循环基本语法格式\n",
    "\tfor var in 可迭代对象: # 可迭代对象英文是iterableobject\n",
    "\t\t程序代码区块\n",
    "- 可迭代对象(iterableobject)可以是列表、元组、字典与集合或range()，\n",
    "- 在信息科学中迭代(iteration)可以解释为重复执行，上述语法可以解释为将可迭代对象的元素当作var，重复执行，直到每个元素皆被执行一次，整个循环才会停止。\n",
    "## range( )函数\n",
    "- Python可以使用range( )函数产生一个等差序列，我们又称这等差序列为可迭代对象(iterable object)，也可以称是range对象。由于range( )是产生等差序列，我们可以直接使用，将此等差序列当作==循环的计数器==。\n",
    "- range(start, stop, step)\n",
    "    - 上述stop是唯一必须的值，等差序列是产生stop的前一个值,所产生等差序列范围是从0至stop-1\n",
    "    - step的预设是1，所以预设等差序列是递增1\n",
    "- `新列表 = [表达式 for 项目 in 可迭代对象]` # 将每个可迭代对象套入表达式，每次产生一个列表元素\n",
    "    - square = [num ** 2 for num in range(1, n+1)]\n",
    "- 当range(n)函数搭配一个参数时：\n",
    "    ```python\n",
    "    range(n) # 它将产生0, 1, … , n-1的可迭代对象内容\n",
    "    ```\n",
    "- 当range( )函数搭配2个参数时，它的语法格式如下:\n",
    "    ```python\n",
    "    range(start, end)) # start是起始值，end-1是终止值\n",
    "    ```\n",
    "- 当range( )函数搭配3个参数时，它的语法格式如下:\n",
    "    ``` python\n",
    "    range(start, end, step)   # start是起始值，end是终止值，step是间隔值\n",
    "    ```\n",
    "## 强制离开for循环-break指令\n",
    "- break指令通常是和if语句配合使用\n",
    "```python\n",
    "for 变量 in 对象 :\n",
    "    程序代码区块1\n",
    "    if 条件表达式 # 判断条件表达式\n",
    "        程序代码区块2\n",
    "        break # 如果条件表达式是True则离开for循环\n",
    "    程序代码区块3\n",
    "```\n",
    "## for循环暂时停止不往下执行–continue指令\n",
    "- 在设计for循环时，如果期待某些条件发生时可以不往下执行循环内容，此时可以用continue指令，这个指令通常是和if语句配合使用。\n",
    "- 语法格式\n",
    "```python\n",
    "for 变量 in 对象 :\n",
    "    程序代码区块1\n",
    "    if 条件表达式 # 判断条件表达式\n",
    "        程序代码区块2\n",
    "        continue # 如果条件表达式是True则不执行程序代码区块3\n",
    "    程序代码区块3\n",
    "```\n",
    "## for … else循环\n",
    "```python\n",
    "for 变量 in 对象 :\n",
    "    程序代码区块1\n",
    "    if 条件表达式 # 判断条件表达式\n",
    "        程序代码区块2\n",
    "        break # 如果条件表达式是True则不执行程序代码区块3\n",
    "    程序代码区块3\n",
    "else\n",
    "    程序代码区块4 # 最后一次循环表达式是Flase则执行\n",
    "```\n",
    "## while循环\n",
    "- 基本上循环会一直执行直到条件运算为False才会离开循环，所以设计while循环时一定要设计一个条件可以离开循环，相当于让循环结束。\n",
    "- 语法格式\n",
    "```python\n",
    "while 条件运算  # 为真就执行程序区块，当条件变化为假后退出循环\n",
    "    程序区块\n",
    "```\n",
    "## 强制离开while循环-break指令\n",
    "- 如果期待某些条件发生时可以离开循环，可以在循环内执行break指令立即离开循环，这个指令通常是和if语句配合使用。\n",
    "## pass\n",
    "- pass指令是什么事也不做,这会让程序进入无限循环.\n",
    "```python\n",
    "while Trun:\n",
    "    pass\n",
    "```"
   ]
  },
  {
   "cell_type": "markdown",
   "metadata": {},
   "source": []
  },
  {
   "cell_type": "markdown",
   "metadata": {
    "collapsed": false,
    "pycharm": {
     "name": "#%% md\n"
    }
   },
   "source": [
    "## 循环设计\n",
    "- for循环\n",
    "- range()函数\n",
    "- while循环\n",
    "- enumerate对象使用for循环解析"
   ]
  },
  {
   "cell_type": "code",
   "execution_count": null,
   "metadata": {
    "collapsed": false,
    "pycharm": {
     "name": "#%%\n"
    }
   },
   "outputs": [],
   "source": [
    "for i in range(1, 10):\n",
    "    for j in range(1, 10):\n",
    "        if j >= i:\n",
    "            print(\"aa\", end=\"\")\n",
    "    print()\n",
    "for f in range(1, 10):\n",
    "    for g in range(1, 10):\n",
    "        if g <= f:\n",
    "            print(\"aa\", end=\"\")\n",
    "    print()\n",
    "for f in range(1, 10):\n",
    "    for g in range(1, 10):\n",
    "        if f <= g:\n",
    "            print(\"aa\", end=\"\")\n",
    "    print()\n",
    "for f in range(1, 10):\n",
    "    for g in range(1, 10):\n",
    "        if f <= g:\n",
    "            print(\"aa\", end=\"\")\n",
    "            print(f, g)\n",
    "        elif g <= f:\n",
    "            print(\"aa\", end=\"\\t\")\n",
    "    print()\n"
   ]
  },
  {
   "cell_type": "code",
   "execution_count": 2,
   "metadata": {
    "collapsed": false,
    "pycharm": {
     "name": "#%%\n"
    }
   },
   "outputs": [
    {
     "name": "stdout",
     "output_type": "stream",
     "text": [
      "6年体重变化57.2千克\n",
      "7年体重变化58.4千克\n",
      "8年体重变化59.6千克\n",
      "9年体重变化60.8千克\n",
      "10年体重变化62.0千克\n"
     ]
    }
   ],
   "source": [
    "# 假设你今年体重是50千克，每年可以增加1.2千克，请列出未来10年的体重变化。\n",
    "# 控制输出数量用list的切片进行控制\n",
    "i_list = []\n",
    "j = 5\n",
    "for i in range(1, 11):\n",
    "    weight_new = 50 + 1.2 * i\n",
    "    i_list.append(weight_new)\n",
    "    # print(i_list)\n",
    "for q in i_list[5:]:\n",
    "    j += 1\n",
    "    print('{0}年体重变化{1}千克'.format(j, q))\n"
   ]
  },
  {
   "cell_type": "code",
   "execution_count": 11,
   "metadata": {
    "collapsed": false,
    "pycharm": {
     "is_executing": true,
     "name": "#%%\n"
    }
   },
   "outputs": [
    {
     "name": "stdout",
     "output_type": "stream",
     "text": [
      "我2018年是42岁!\n",
      "我2019年是43岁!\n",
      "我2020年是44岁!\n",
      "我2021年是45岁!\n",
      "我2022年是46岁!\n"
     ]
    }
   ],
   "source": [
    "# 建立一个从1开始到你的年龄的列表，同时打印出来。\n",
    "# 控制输出数量用list的切片进行控制\n",
    "age = []\n",
    "age_lm = 41\n",
    "for i in range(46):\n",
    "    j = 1977 + i\n",
    "    age.append(j)\n",
    "   # print(\"我{01}年的年龄{0}\".format(i, j))\n",
    "for ages in age[-5:]:\n",
    "    age_lm += 1\n",
    "    print(f'我{ages}年是{age_lm}岁!')\n"
   ]
  },
  {
   "cell_type": "code",
   "execution_count": 27,
   "metadata": {
    "collapsed": false,
    "pycharm": {
     "name": "#%%\n"
    }
   },
   "outputs": [
    {
     "name": "stdout",
     "output_type": "stream",
     "text": [
      "1 . 李子\n",
      "2 . 香蕉\n",
      "3 . 苹果\n",
      "4 . 西瓜\n",
      "5 . 桃子\n"
     ]
    }
   ],
   "source": [
    "fruits = ['李子', '香蕉', '苹果', '西瓜', '桃子']\n",
    "j = 0\n",
    "for i in fruits:\n",
    "    j = j + 1\n",
    "    print(j, \".\", i)\n"
   ]
  },
  {
   "cell_type": "markdown",
   "metadata": {
    "collapsed": false,
    "pycharm": {
     "name": "#%% md\n"
    }
   },
   "source": [
    "请列出下列数列，其中n值是由屏幕输入\n",
    "(a)：1 + 3 + 5 + … n # n请输入奇数\n",
    "(b)：1 + 2 - 3 + … - (n-1) + n # n请输入偶数\n",
    "(c)：1/n + 2/n + … + n/n"
   ]
  },
  {
   "cell_type": "code",
   "execution_count": null,
   "metadata": {
    "collapsed": false,
    "pycharm": {
     "name": "#%%\n"
    }
   },
   "outputs": [],
   "source": [
    "num_int = input(\"请输入一个整数！\")\n",
    "print(\"您输入的是：{0}\".format(num_int))\n",
    "n = int(num_int)\n",
    "j = 0  # 设置循环变量的初值为零\n",
    "m = 0  # 设置循环变量的初值为零\n",
    "u = 1  # 设置循环变量的初值为零\n",
    "y = 1\n",
    "if n % 2 == 0:\n",
    "    for i in range(2, n + 1):\n",
    "        #print(\"i=\", i)\n",
    "        if i % 2 == 0:\n",
    "            u += i  # 采用变换运算符号的办法进行穷举迭代\n",
    "        else:\n",
    "            u -= i\n",
    "    print(\"1 + 2 - 3 + … - (n-1) + n,=\", u)\n",
    "else:\n",
    "    for k in range(1, n+2, 2):\n",
    "        j += k\n",
    "        # print(\"k=\", k)\n",
    "        # print('j=', j)\n",
    "    print(\"奇数累加j=\", j)\n",
    "for y in range(1, n+1):\n",
    "    m += y / n\n",
    "    # print(\"y=\", y)\n",
    "    # print('n=', n)\n",
    "print(f\"f分数累加m={m:6.2f}\")\n"
   ]
  },
  {
   "cell_type": "code",
   "execution_count": 14,
   "metadata": {
    "collapsed": false,
    "pycharm": {
     "name": "#%%\n"
    }
   },
   "outputs": [
    {
     "name": "stdout",
     "output_type": "stream",
     "text": [
      "25\n"
     ]
    }
   ],
   "source": [
    "# 累加循环一定要设置初值，如果没有初值运行时会报错。\n",
    "j = 0\n",
    "for num_i in range(1, 11, 2):  # 奇数求和\n",
    "    j += num_i\n",
    "    if num_i > 10:\n",
    "        break  # 设置跳出循环的条件\n",
    "print(j)\n"
   ]
  },
  {
   "cell_type": "code",
   "execution_count": 22,
   "metadata": {
    "collapsed": false,
    "pycharm": {
     "name": "#%%\n"
    }
   },
   "outputs": [
    {
     "name": "stdout",
     "output_type": "stream",
     "text": [
      "您输入的是：6\n",
      "1 + 2 - 3 + … - (n-1) + n,n是6,得数是:5\n"
     ]
    }
   ],
   "source": [
    "num_int = input(\"请输入一个整数！\")\n",
    "print(f\"您输入的是：{num_int}\")\n",
    "n = int(num_int)\n",
    "u = 1  # 设置循环变量的初值\n",
    "if n % 2 == 0 and n >= 4:\n",
    "    for i in range(2, n + 1):\n",
    "        #print(\"i=\", i)\n",
    "        if i % 2 == 0:\n",
    "            u += i  # \n",
    "        else:\n",
    "            u -= i\n",
    "    print(f\"1 + 2 - 3 + … - (n-1) + n,n是{num_int},得数是:{u}\")\n"
   ]
  }
 ],
 "metadata": {
  "kernelspec": {
   "display_name": "Python 3.9.12 ('py39')",
   "language": "python",
   "name": "python3"
  },
  "language_info": {
   "codemirror_mode": {
    "name": "ipython",
    "version": 3
   },
   "file_extension": ".py",
   "mimetype": "text/x-python",
   "name": "python",
   "nbconvert_exporter": "python",
   "pygments_lexer": "ipython3",
   "version": "3.9.12"
  },
  "vscode": {
   "interpreter": {
    "hash": "a53f9004b2967cf231bcc725233179e02662bdca2dc7a6c6f48263bde11e4842"
   }
  }
 },
 "nbformat": 4,
 "nbformat_minor": 0
}
