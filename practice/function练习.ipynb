{
 "cells": [
  {
   "cell_type": "markdown",
   "metadata": {
    "collapsed": false,
    "pycharm": {
     "name": "#%% md\n"
    }
   },
   "source": [
    "## 函数\n",
    "- 无参数函数\n",
    "- 传递1个参数函数\n",
    "- 传递多个参数函数\n",
    "- 形参和实参的区别和作用\n",
    "- 关键词参数 参数名称=值\n",
    "- 参数默认值的处理\n",
    "- 函数返回值\n",
    "- 调用函数时参数是列表\n",
    "- 传递任意数量的参数\n",
    "- 递归式函数设计recursive\n",
    "- 匿名函数lambda\n",
    "- pass与函数\n",
    "- type关键词应用在函数\n",
    "- 局部变量与全局变量"
   ]
  },
  {
   "cell_type": "markdown",
   "metadata": {
    "collapsed": false,
    "pycharm": {
     "name": "#%% md\n"
    }
   },
   "source": [
    "## 习题\n",
    "1. 请设计一个绝对值absolute( )函数，如果输入-5返回5，如果输入5返回\n",
    "5。\n",
    "2. 请将ch11_12.py扩充为可以执行加法、减法、乘法、除法运算的小型计算\n",
    "器。\n",
    "3. 请将ch11_12.py扩充为可以重复执行，直到输入运算是q时，程序才执行\n",
    "结束。\n",
    "4. 请将习题3的观念应用在习题2上。\n",
    "5. 请重新设计ch11_14.py，将程序处理为适合外国人姓名的使用环境。\n",
    "6. 请重新设计ch11_28.py，新增一个printing( )函数，这个函数不定义msg\n",
    "变量，但是执行打印msg，请观察执行结果。\n",
    "7. 请用递归函数设计费式数列Fibonacci，费式数列的规则如下：\n",
    "F0 = 0\n",
    "F1 = 1\n",
    "Fn = Fn-1 + Fn-2 ( n >= 2)\n",
    "最后值应该是0, 1, 1, 2, 3, 5, 8, 13, 21, 34, ……\n",
    "8. 请重新设计ch11_24.py，将程序改为制作pizza，第一个参数改为pizza的\n",
    "尺寸，然后请至pizza店实际选择5种配料。\n",
    "9. 美国NBA球员Lin的前10场得分资料如下：\n",
    "25, 18, 12, 22, 31, 17, 26, 19, 18, 10\n",
    "请使用匿名函数和filter( )函数，列出得分超过20分（含）的列表。"
   ]
  },
  {
   "cell_type": "markdown",
   "metadata": {},
   "source": [
    "# 函数示例\n",
    "---"
   ]
  },
  {
   "cell_type": "code",
   "execution_count": null,
   "metadata": {
    "collapsed": false,
    "pycharm": {
     "name": "#%%\n"
    }
   },
   "outputs": [],
   "source": [
    "# 传递1个参数的函数\n",
    "num_int = input(\"请输入一个整数！\")  # 输入的num_int就是全局变量\n",
    "\n",
    "\n",
    "def sum_num(num_int):  # num_int参数就是形参\n",
    "    \"\"\"计算1+2-3+4……-（n-1）+n的计算公式\"\"\"\n",
    "\n",
    "\n",
    "print(f\"您输入的参数是：{num_int}\")\n",
    "n = int(num_int)\n",
    "u = 1  # 设置循环变量的初值为零\n",
    "# if n % 2 == 0 and n >= 4:\n",
    "for i in range(2, n + 1):\n",
    "    #print(\"i=\", i)\n",
    "    if i % 2 == 0:\n",
    "        u += i  # 偶数前面是加号,奇数前面前面是减号,所以用判断奇偶数方式进行计算.\n",
    "    else:\n",
    "        u -= i\n",
    "\n",
    "print(\"u=\", u)  # return语句没有赋值，所以返回的值是None，None在Python中独立成为一个数据类型\n",
    "sum_num(num_int)\n",
    "print(sum_num(10))  # 10就是实参，被带入到num_int形参进入函数内运行，\n"
   ]
  },
  {
   "cell_type": "code",
   "execution_count": null,
   "metadata": {
    "collapsed": false,
    "pycharm": {
     "name": "#%%\n"
    }
   },
   "outputs": [],
   "source": [
    "# 2个函数共存，局部变量与全局变量的练习\n",
    "num_int = input(\"请输入一个整数！\")  # num_int和x1就是全局变量\n",
    "x1 = int(num_int)  # num_int和x1就是全局变量\n",
    "\n",
    "\n",
    "def sum_num(num_int):\n",
    "    \"\"\"计算1+2-3+4……-（n-1）+n的计算公式\"\"\"\n",
    "\n",
    "    print(f\"您输入的参数是：{num_int}\")\n",
    "    n = int(num_int)  # 变量n就是局部变量，只在函数内有效\n",
    "    u = 1  # 设置循环变量的初值为零\n",
    "    for i in range(2, n + 1):\n",
    "        if i % 2 == 0:\n",
    "            u += i  # 这个简化的算式是错的，所以无法得到正确答案\n",
    "        else:\n",
    "            u -= i  # u也是局部变量，只在函数体内有效\n",
    "    return u\n",
    "\n",
    "\n",
    "def sum_odd(x1):\n",
    "    j = 0\n",
    "    for num_i in range(1, x1 + 1, 2):  # 奇数求和\n",
    "        j += num_i\n",
    "        if num_i > 10:\n",
    "            break  # 设置跳出循环的条件\n",
    "    return j  # return返回值是j，注意retur的缩进，缩进错误将得不到正确的数值\n",
    "\n",
    "\n",
    "print(f\"{x1}以内的奇数和是：{sum_odd(x1)}\")\n",
    "#print(\"u=\", u)\n",
    "# sum_num(num_int)\n",
    "# print(type(sum_num()))\n",
    "print(f\"1+2-3+4……-（n-1）+n,n={num_int}的值是：{sum_num(num_int)}\")\n"
   ]
  },
  {
   "cell_type": "code",
   "execution_count": null,
   "metadata": {
    "collapsed": false,
    "pycharm": {
     "name": "#%%\n"
    }
   },
   "outputs": [],
   "source": [
    "# 传递多个位置参数函数,位置参数的顺序很重要\n",
    "def get_formatted_name(first_name, middle_name, last_name):\n",
    "    \"\"\"返回整洁的姓名。\"\"\"\n",
    "    full_name = f\"{first_name} {middle_name} {last_name}\"\n",
    "    return full_name.title()\n",
    "\n",
    "\n",
    "# musician被赋值3实参到函数get_formatted_name的形参\n",
    "musician = get_formatted_name('john', 'lee', 'hooker')\n",
    "print(musician)\n"
   ]
  },
  {
   "cell_type": "code",
   "execution_count": null,
   "metadata": {
    "collapsed": false,
    "pycharm": {
     "name": "#%%\n"
    }
   },
   "outputs": [],
   "source": [
    "#  参数默认值的处理，默认值是空字符串\n",
    "def guest_user(firstname, lastname, gender, middlename=''):  # 设计时必须将默认为空字符串的参数放函数参数列的最右边\n",
    "    \"\"\"整合客户名字数据\"\"\"\n",
    "    if gender == 'm':\n",
    "        welcome = lastname + middlename + firstname + '先生欢迎你'\n",
    "    else:\n",
    "        welcome = lastname + middlename + firstname + '小姐欢迎你'\n",
    "    return welcome\n",
    "\n",
    "\n",
    "info1 = guest_user('清', '流', 'm')\n",
    "info2 = guest_user('清', '流', 'f', '冰')\n",
    "print(info1)\n",
    "print(info2)\n"
   ]
  },
  {
   "cell_type": "code",
   "execution_count": null,
   "metadata": {
    "collapsed": false,
    "pycharm": {
     "name": "#%%\n"
    }
   },
   "outputs": [],
   "source": [
    "# 形参默认值的处理,默认值参数指的是形参的设定\n",
    "def interest(rest_type, subject='敦煌'):\n",
    "    \"\"\"显示兴趣和主题\"\"\"\n",
    "    print(\"我的兴趣是\" + rest_type)\n",
    "    print(\"在\" + rest_type + \"中,最喜欢的是\" + subject)\n",
    "    print()\n",
    "\n",
    "\n",
    "interest(rest_type='旅游')  # 注意这里只输入了一个参数，另一个参数使用的默认参数\n",
    "interest(subject='西藏', rest_type='旅游')  # 关键字参数不需要注意位置顺序\n"
   ]
  },
  {
   "cell_type": "code",
   "execution_count": null,
   "metadata": {
    "collapsed": false,
    "pycharm": {
     "name": "#%%\n"
    }
   },
   "outputs": [],
   "source": [
    "# 关键字参数 参数名称=值\n",
    "# 所谓的关键字参数(keyword arguments)是指调用函数时，实参是用参数名称=值配对方式呈现。\n",
    "def interest(rest_type, subject):\n",
    "    \"\"\"显示兴趣和主题\"\"\"\n",
    "    print(\"我的兴趣是\" + rest_type)\n",
    "    print(\"在\" + rest_type + \"中,最喜欢的是\" + subject)\n",
    "    print()\n",
    "\n",
    "\n",
    "interest(rest_type='旅游', subject='敦煌')  # 位置正确\n",
    "interest(subject='敦煌', rest_type='旅游')  # 关键字参数位置变动\n"
   ]
  },
  {
   "cell_type": "code",
   "execution_count": null,
   "metadata": {
    "collapsed": false,
    "pycharm": {
     "name": "#%%\n"
    }
   },
   "outputs": [],
   "source": [
    "# 函数返回值练习，return系统默认值None，None在python中是一种特殊的数据类型\n",
    "def greeting(name):\n",
    "    print(\"HI\", name, \"good Morning!\")\n",
    "\n",
    "\n",
    "def greeting_return(name):\n",
    "    print(\"HI\", name, \"good Morning!\")\n",
    "    return name\n",
    "\n",
    "\n",
    "ret_value = greeting('Neison')\n",
    "ret_value1 = greeting_return('return传回值')\n",
    "print(\"greeting()函数传回值=\", ret_value)\n",
    "print(ret_value, \"的 type = \", type(ret_value))  # type函数显示return的返回值的数据类型\n",
    "print(\"greeting_return()函数使用return后传回值=\", ret_value1)\n",
    "print(ret_value1, \"的 type = \", type(ret_value1))\n"
   ]
  },
  {
   "cell_type": "code",
   "execution_count": null,
   "metadata": {
    "collapsed": false,
    "pycharm": {
     "name": "#%%\n"
    }
   },
   "outputs": [],
   "source": [
    "# return 返回多个数据的应用\n",
    "def calculation_return(x1, x2):\n",
    "    \"\"\"加减乘除四则运算\"\"\"\n",
    "    addresult = x1 + x2\n",
    "    subresult = x1 - x2\n",
    "    mulresult = x1 * x2\n",
    "    divresult = x1 / x2\n",
    "    return addresult, subresult, mulresult, divresult\n",
    "\n",
    "\n",
    "x1 = x2 = 20  # 对x1,x2参数赋值\n",
    "add, sub, mul, div = calculation_return(\n",
    "    x1, x2)  # 函数运行完后返回的4个结果return返回给外部的4个变量\n",
    "print(f\"加法结果={add:^5}\")\n",
    "print(f\"减法结果={sub:>2}\")\n",
    "print(f\"乘法结果={mul:<6}\")\n",
    "print(f\"除法结果={div:^7}\")\n"
   ]
  },
  {
   "cell_type": "code",
   "execution_count": null,
   "metadata": {
    "collapsed": false,
    "pycharm": {
     "name": "#%%\n"
    }
   },
   "outputs": [],
   "source": [
    "# 调用函数时参数是列表\n",
    "def pro_msg(cust):\n",
    "    str1 = '亲爱的'\n",
    "    str2 = '本公司将在2022年12月20日北京举行产品发布会.'\n",
    "    str3 = '总经理:敬上'\n",
    "    for custer in cust:\n",
    "        msg = str1 + custer + '\\n' + str2 + '\\n' + str3\n",
    "        print(msg, '\\n')\n",
    "\n",
    "\n",
    "members = ['乾隆:', '李世民:', '秦始皇:']\n",
    "pro_msg(members)\n"
   ]
  },
  {
   "cell_type": "code",
   "execution_count": null,
   "metadata": {
    "collapsed": false,
    "pycharm": {
     "name": "#%%\n"
    }
   },
   "outputs": [],
   "source": [
    "# 在函数内修订列表内容\n",
    "\n",
    "def kitchen(unserved, served):\n",
    "    \"\"\"将未服务的餐点转为已服务\"\"\"\n",
    "    print('厨房处理顾客所点的餐点')\n",
    "    while unserved:\n",
    "        current_meal = unserved.pop()\n",
    "        # 模拟出餐点的过程\n",
    "        print('菜单:', current_meal)\n",
    "        # 将已出餐点转入已经服务列表\n",
    "        served.append(current_meal)\n",
    "        print(f\"已出餐:{served}\")\n",
    "\n",
    "\n",
    "def show_unserved_meal(unserved):\n",
    "    print('===下列是尚未服务的餐点===')\n",
    "    if not unserved:\n",
    "        print('***没有点餐***', '\\n')\n",
    "        for i in unserved:\n",
    "            print(1)\n",
    "\n",
    "\n",
    "def show_served_meal(served):\n",
    "    \"\"\"显示已经服务的餐点\"\"\"\n",
    "    print('===下列是已经服务的餐点===')\n",
    "    if not served:\n",
    "        print('***没有点餐***', '\\n')\n",
    "    for j in served:\n",
    "        print(j)\n",
    "\n",
    "\n",
    "order_list = ['大麦克', '劲辣鸡腿堡', '麦克鸡块']\n",
    "served_list = []\n",
    "\n",
    "# 列出餐厅处理前的点餐内容\n",
    "show_unserved_meal(order_list[:])\n",
    "show_served_meal(served_list)\n",
    "\n",
    "# 餐厅服务过程\n",
    "kitchen(order_list[:], served_list)\n",
    "print('\\n', '===厨房处理结束===', '\\n')\n",
    "\n",
    "# 列出餐厅处理后的点餐内容\n",
    "show_unserved_meal(order_list)\n",
    "show_served_meal(served_list)\n"
   ]
  },
  {
   "cell_type": "code",
   "execution_count": null,
   "metadata": {
    "collapsed": false,
    "pycharm": {
     "name": "#%%\n"
    }
   },
   "outputs": [],
   "source": [
    "# 传递任意数量的参数\n",
    "def 传递任意参数(*整数类型):\n",
    "    for ints in 整数类型:\n",
    "        print(f\"输入的是一个数{ints}!\")\n",
    "\n",
    "\n",
    "传递任意参数(25, 36, 75, 96)\n"
   ]
  },
  {
   "cell_type": "code",
   "execution_count": null,
   "metadata": {
    "collapsed": false,
    "pycharm": {
     "name": "#%%\n"
    }
   },
   "outputs": [],
   "source": [
    "# 传递任意数量的参数\n",
    "def make_icecream(*toppings):  # 这时传递进来的实参数据类型变成了元组\n",
    "    # 函数的参数“*toppings”，这个加上“*”符号的参数代表可以有1到多个参数将传递到这个函数内\n",
    "    \"\"\"列出冰激凌的配料\"\"\"\n",
    "    print(\"这个冰激凌所加配料如下\")\n",
    "    for topping in toppings:\n",
    "        print(\".......\", topping)  # 输出的数据类型是字符串\n",
    "\n",
    "\n",
    "make_icecream(\"草莓酱\")\n",
    "make_icecream(\"草莓酱\", \"葡萄干\", \"巧克力碎片\")\n",
    "\n",
    "\n",
    "# ?问题\n",
    "# 一个*号和二个**号的区别是什么?\n"
   ]
  },
  {
   "cell_type": "code",
   "execution_count": null,
   "metadata": {
    "collapsed": false,
    "pycharm": {
     "name": "#%%\n"
    }
   },
   "outputs": [],
   "source": [
    "# 含有一般参数与任意数量的关键字参数\n",
    "def build_dict(name, age, **players):  # name和age是字符串,最后任意参数是以字典的数据结构传递\n",
    "    \"\"\"建立NBA球员的字典数据\"\"\"\n",
    "    info = {}\n",
    "    info['name'] = name\n",
    "    info['age'] = age\n",
    "    for key, value in players.items():  # items方法传递play_dict字典实参数据到players形参,for循环依次传递到info字典里,\n",
    "        info[key] = value\n",
    "    return info\n",
    "\n",
    "\n",
    "player_dict = build_dict('james', '32',\n",
    "                         city='cleveland',\n",
    "                         state='ohio')\n",
    "print(player_dict)\n",
    "\n",
    "\n",
    "# ?问题\n",
    "# items()方法在字典应用中是达到什么功能\n",
    "# 一个*是任意数量的参数,一般作用于列表实参的传递\n",
    "# 二个*是任意数量的关键字参数,一般作用于字典实参的数据传递\n",
    "# items()返回由字典项((键, 值) 对) 组成的一个新视图。\n"
   ]
  },
  {
   "cell_type": "code",
   "execution_count": null,
   "metadata": {
    "collapsed": false,
    "pycharm": {
     "name": "#%%\n"
    }
   },
   "outputs": [],
   "source": [
    "# 递归式函数设计recursive\n",
    "def 阶乘计算(n):\n",
    "    # 计算n的阶乘,必须是正整数\n",
    "    if n == 1:\n",
    "        return 1\n",
    "    else:\n",
    "        return (n * 阶乘计算(n - 1))\n",
    "\n",
    "\n",
    "value = 3\n",
    "print(value, '的阶乘结果是=', 阶乘计算(value))\n",
    "value = 5\n",
    "print(value, '的阶乘结果是=', 阶乘计算(value))\n"
   ]
  },
  {
   "cell_type": "code",
   "execution_count": null,
   "metadata": {
    "collapsed": false,
    "pycharm": {
     "name": "#%%\n"
    }
   },
   "outputs": [],
   "source": [
    "# 匿名函数lambda的语法\n",
    "# lambda arg1[, arg2, …, argn]:expression # arg1是参数，可以有多个参数\n",
    "def square(x): return x ** 2  # 定义lambda函数\n",
    "\n",
    "\n",
    "def product(x, y): return x * y\n",
    "\n",
    "\n",
    "print(square(10))  # 输出平方值\n",
    "print(product(5, 10))  # 输出x*y的值\n"
   ]
  },
  {
   "cell_type": "code",
   "execution_count": null,
   "metadata": {
    "collapsed": false,
    "pycharm": {
     "name": "#%%\n"
    }
   },
   "outputs": [],
   "source": [
    "# 匿名函数使用与filter( )\n",
    "# filter(function, iterable)\n",
    "# 上述函数将依次对iterable(可以重复执行，例如，字符串string、列表list或元组tuple)的元素item)放入function(item)内，然后将function( )函数执行结果是True的元素(item)组成新的筛选对象(filter object)返回\n",
    "\n",
    "def oddfn(x):\n",
    "    return x if (x % 2 == 1) else None\n",
    "\n",
    "\n",
    "mylist = [5, 10, 15, 20, 25, 30, ]\n",
    "filter_object = filter(oddfn, mylist)\n",
    "\n",
    "print('奇数列表', [item for item in filter_object])\n"
   ]
  },
  {
   "cell_type": "code",
   "execution_count": 6,
   "metadata": {
    "collapsed": false,
    "pycharm": {
     "name": "#%%\n"
    }
   },
   "outputs": [
    {
     "name": "stdout",
     "output_type": "stream",
     "text": [
      "列表的平方根: [25, 100, 225, 400, 625, 900]\n"
     ]
    }
   ],
   "source": [
    "# 匿名函数使用与map( )\n",
    "# 语法格式如下：map(function, iterable)\n",
    "mylist = [5, 10, 15, 20, 25, 30, ]\n",
    "squarelist = list(map(lambda x: x ** 2, mylist))\n",
    "\n",
    "print('列表的平方根:', squarelist)\n"
   ]
  },
  {
   "cell_type": "code",
   "execution_count": 7,
   "metadata": {},
   "outputs": [
    {
     "name": "stdout",
     "output_type": "stream",
     "text": [
      "3 的阶乘结果是= 6\n",
      "5 的阶乘结果是= 120\n"
     ]
    }
   ],
   "source": [
    "# 递归式函数设计recursive\n",
    "def 阶乘计算(n):\n",
    "    # 计算n的阶乘,必须是正整数\n",
    "    if n == 1:\n",
    "        return 1\n",
    "    else:\n",
    "        return (n * 阶乘计算(n - 1))\n",
    "\n",
    "\n",
    "value = 3\n",
    "print(value, '的阶乘结果是=', 阶乘计算(value))\n",
    "value = 5\n",
    "print(value, '的阶乘结果是=', 阶乘计算(value))"
   ]
  },
  {
   "cell_type": "markdown",
   "metadata": {},
   "source": [
    "# Function习题练习\n",
    "---"
   ]
  },
  {
   "cell_type": "code",
   "execution_count": 1,
   "metadata": {
    "collapsed": false,
    "pycharm": {
     "name": "#%%\n"
    }
   },
   "outputs": [
    {
     "name": "stdout",
     "output_type": "stream",
     "text": [
      "这章学习的是自定义函数!"
     ]
    }
   ],
   "source": [
    "# 编写一个名为display_message()的函数，它打印一个句子，指出你在本章学的是什么。\n",
    "# 调用这个函数，确认显示的消息正确无误。\n",
    "def display_message():\n",
    "    \"\"\"打印消息函数\"\"\"\n",
    "    print('这章学习的是自定义函数!', end='')\n",
    "\n",
    "\n",
    "display_message()\n"
   ]
  },
  {
   "cell_type": "code",
   "execution_count": null,
   "metadata": {
    "collapsed": false,
    "pycharm": {
     "name": "#%%\n"
    }
   },
   "outputs": [],
   "source": [
    "# 喜欢的图书 编写一个名为favorite_book() 的函数，其中包含一个名为title的形参。\n",
    "def favorite_book(title):\n",
    "    \"\"\"显示喜欢的图书,带一个参数\"\"\"\n",
    "    print(f\"我喜欢的图书是{title}!\")\n",
    "\n",
    "\n",
    "favorite_book('平凡的世界')\n"
   ]
  },
  {
   "cell_type": "code",
   "execution_count": null,
   "metadata": {
    "collapsed": false,
    "pycharm": {
     "name": "#%%\n"
    }
   },
   "outputs": [],
   "source": [
    "# 强制关键字参数，强制位置参数\n",
    "# 编写一个名为make_shirt() 的函数，它接受一个尺码以及要印到T恤上的字样。这个函数应打印一个句子，概要地说明T恤的尺码和字样。使用位置实参调用该函数来制作一件T恤，再使用关键字实参来调用这个函数。\n",
    "def make_shirt(size, font,):\n",
    "    print(f'您制作的是{size}尺码的T恤,T恤上的文字:{font}!')\n",
    "\n",
    "\n",
    "make_shirt(36, '热爱python')\n",
    "\n",
    "# 强制关键字参数\n",
    "def make_shirt(size,*, font,):  #  ‘*’号后的所有形参强制要求是关键字形参\n",
    "    print(f'您制作的是{size}尺码的T恤,T恤上的文字:{font}!')\n",
    "\n",
    "\n",
    "make_shirt(36, font='强制关键字参数') # 这里的实参必须是关键字参数，不然系统运行会报typeerror\n",
    "\n",
    "# 仅限位置参数\n",
    "def make_shirt(size, font,):  #  ‘/’前的的所有形参强制要求是位置形参。3.8版本新增加\n",
    "    print(f'您制作的是{size}尺码的T恤,T恤上的文字:{font}!')\n",
    "\n",
    "\n",
    "make_shirt(36, '热爱python') "
   ]
  },
  {
   "cell_type": "code",
   "execution_count": null,
   "metadata": {
    "collapsed": false,
    "pycharm": {
     "name": "#%%\n"
    }
   },
   "outputs": [],
   "source": [
    "# 设计一个绝对值absolute( )函数，如果输入-5返回5，如果输入5返回5。\n",
    "def abssolute(x):\n",
    "    print(f'你输入的是{x}')\n",
    "    if x > 0:\n",
    "        print(x)\n",
    "    else:\n",
    "        x = x * -1\n",
    "        print(x)\n",
    "\n",
    "\n",
    "abssolute(10)\n"
   ]
  },
  {
   "cell_type": "code",
   "execution_count": null,
   "metadata": {
    "collapsed": false,
    "pycharm": {
     "name": "#%%\n"
    }
   },
   "outputs": [],
   "source": [
    "# 扩充为可以执行加法、减法、乘法、除法运算的小型计算器。\n",
    "while True:\n",
    "    def add(x1, x2):\n",
    "        return x1 + x2\n",
    "\n",
    "\n",
    "    def sub(x1, x2):\n",
    "        return x1 - x2\n",
    "\n",
    "\n",
    "    def mul(x1, x2):\n",
    "        return x1 * x2\n",
    "\n",
    "\n",
    "    def div(x1, x2):\n",
    "        return x1 / x2\n",
    "\n",
    "\n",
    "    print('请输入运算')\n",
    "    print('1:加法')\n",
    "    print('2:减法')\n",
    "    print('3:乘法')\n",
    "    print('4:除法')\n",
    "    print('5:退出')\n",
    "    op = int(input('输入1,2,3,4选择运算规则,'))\n",
    "    a = int(input('a='))\n",
    "    b = int(input('b='))\n",
    "    if op == 1:\n",
    "        print('a+b=', add(a, b))\n",
    "    elif op == 2:\n",
    "        print('a-b=', sub(a, b))\n",
    "    elif op == 3:\n",
    "        print(\"a'×'b=\", mul(a, b))\n",
    "    elif op == 4:\n",
    "        print('a÷b=', div(a, b))\n",
    "    elif op == 5:  # 退出while循环的出口\n",
    "        break\n",
    "    else:\n",
    "        print('运算方法选择错误')"
   ]
  },
  {
   "cell_type": "code",
   "execution_count": 1,
   "metadata": {},
   "outputs": [
    {
     "name": "stdout",
     "output_type": "stream",
     "text": [
      "[1, 3, 19, 23, 2, 4, 4, 20, 32]\n"
     ]
    }
   ],
   "source": [
    "# 冒泡算法\n",
    "# magic_bubble_sort(numbers)\n",
    "# [1, 3, 19, 23, 2, 4, 4, 20, 32]\n",
    "\n",
    "from typing import List\n",
    "\n",
    "\n",
    "def magic_bubble_sort(numbers: List[int]):\n",
    "    \"\"\"\n",
    "    有魔力的冒泡排序算法，默认所有的偶数都比奇数大\n",
    "    :param numbers: 需要排序的列表，函数会直接修改原始列表\n",
    "     \"\"\"\n",
    "    stop_position = len(numbers) - 1\n",
    "    while stop_position > 0:\n",
    "        for i in range(stop_position):\n",
    "            current, next_ = numbers[i], numbers[i + 1]\n",
    "            current_is_even, next_is_even = current % 2 == 0, next_ % 2 == 0\n",
    "            should_swap = False\n",
    "\n",
    "            # 交换位置的两个条件：\n",
    "            # - 前面是偶数，后面是奇数\n",
    "            # - 前面和后面同为奇数或者偶数，但是前面比后面大\n",
    "            if current_is_even and not next_is_even:\n",
    "                should_swap = True\n",
    "            elif current_is_even == next_is_even and current > next_:\n",
    "                should_swap = True\n",
    "\n",
    "            if should_swap:\n",
    "                numbers[i], numbers[i + 1] = numbers[i + 1], numbers[i]\n",
    "        stop_position -= 1\n",
    "    return numbers\n",
    "\n",
    "\n",
    "numbers1 = [23, 32, 1, 3, 4, 19, 20, 2, 4]\n",
    "print(magic_bubble_sort(numbers1))"
   ]
  },
  {
   "cell_type": "code",
   "execution_count": 5,
   "metadata": {},
   "outputs": [
    {
     "name": "stdout",
     "output_type": "stream",
     "text": [
      "输出的类型是:<class 'tuple'>\n",
      "t1输出类型是:<class 'tuple'>\n"
     ]
    }
   ],
   "source": [
    "# 定义元组的2种方式\n",
    "t=1,2,3,4, # 不需要小括号,数据类型仍是元组\n",
    "print(f'输出的类型是:{type(t)}')\n",
    "t1=(1,2,3,4,)\n",
    "print(f't1输出类型是:{type(t1)}')"
   ]
  }
 ],
 "metadata": {
  "kernelspec": {
   "display_name": "Python 3.7.13 ('py37')",
   "language": "python",
   "name": "python3"
  },
  "language_info": {
   "codemirror_mode": {
    "name": "ipython",
    "version": 3
   },
   "file_extension": ".py",
   "mimetype": "text/x-python",
   "name": "python",
   "nbconvert_exporter": "python",
   "pygments_lexer": "ipython3",
   "version": "3.7.13"
  },
  "vscode": {
   "interpreter": {
    "hash": "9b6867c453102d05d83e137def2fb8debf2eb8d03d48f5eafc3550ba0eefc553"
   }
  }
 },
 "nbformat": 4,
 "nbformat_minor": 0
}
