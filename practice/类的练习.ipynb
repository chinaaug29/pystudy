{
 "cells": [
  {
   "cell_type": "markdown",
   "metadata": {
    "collapsed": false,
    "pycharm": {
     "name": "#%% md\n"
    }
   },
   "source": [
    "## 类-面向对象的程序设计\n",
    "1. 类的定义与使用\n",
    "2. 类的访问权限——封装(encapsulation)\n",
    "3. 类的继承\n",
    "4. 多型(polymorphism)\n",
    "5. 多重继承\n",
    "6. type与instance\n",
    "7. 特殊属性\n",
    "8. 类的特殊方法"
   ]
  },
  {
   "cell_type": "code",
   "execution_count": 3,
   "metadata": {},
   "outputs": [
    {
     "name": "stdout",
     "output_type": "stream",
     "text": [
      "目前使用的银行是: 招商银行\n",
      "银行服务的宗旨是: 以人为本\n"
     ]
    }
   ],
   "source": [
    "# 类的定义与使用\n",
    "class Banks:\n",
    "    title = '招商银行'  # 定义属性\n",
    "\n",
    "    def motto(self):  # 类的自定义函数就是类的方法\n",
    "        return('以人为本')\n",
    "\n",
    "\n",
    "userbanks = Banksks.title)  # 调用Banks类的属性直接使用属性名()\n",
    "    print('目前使用的银行是:', userban\n",
    "print('银行服务的宗旨是:', userbanks.motto())  # 调用Banks类的方法注意小括号\n"
   ]
  },
  {
   "cell_type": "code",
   "execution_count": 65,
   "metadata": {},
   "outputs": [
    {
     "name": "stdout",
     "output_type": "stream",
     "text": [
      "Hung '目前的余额: 100\n",
      "Join '目前的余额: 300\n",
      "hung 存款 100 完成\n",
      "join 提款 200 完成\n",
      "Hung '目前的余额: 200\n",
      "Join '目前的余额: 100\n"
     ]
    }
   ],
   "source": [
    "# 类的定义与使用2\n",
    "class Banks:\n",
    "    title = '招商银行'  # 定义属性\n",
    "\n",
    "    def __init__(self, uname, money): # init初始化方法重点注意\n",
    "        self.name = uname                   # 设置存款者姓名\n",
    "        self.balance = money                # 设置存款余额\n",
    "\n",
    "    def save_money(self,money):  # 设计存款方法,注意money形参接受后面money实参\n",
    "        # print(type(money))\n",
    "        self.balance += money\n",
    "        print(self.name,'存款', money, '完成')\n",
    "\n",
    "    def withdraw_money(self, money):\n",
    "        self.balance -= money\n",
    "        print(self.name,'提款', money, '完成')\n",
    "\n",
    "    def get_balance(self):\n",
    "        print(self.name.title(), \"'目前的余额:\", self.balance)\n",
    "\n",
    "\n",
    "hungbank = Banks(\"hung\", 100)\n",
    "joinbank = Banks(\"join\", 300)\n",
    "hungbank.get_balance()\n",
    "joinbank.get_balance()\n",
    "hungbank.save_money(100)\n",
    "joinbank.withdraw_money(200)\n",
    "hungbank.get_balance()\n",
    "joinbank.get_balance()\n"
   ]
  },
  {
   "cell_type": "code",
   "execution_count": 52,
   "metadata": {},
   "outputs": [
    {
     "name": "stdout",
     "output_type": "stream",
     "text": [
      "Hung\n"
     ]
    }
   ],
   "source": [
    "# 类的定义与使用3\n",
    "class Banks:\n",
    "\n",
    "    def __init__(self, uname, 金额):\n",
    "        self.name = uname\n",
    "        self.balance = 金额\n",
    "\n",
    "    def get_balance(self):  # 类的自定义函数就是类的方法\n",
    "        return self.balance\n",
    "\n",
    "\n",
    "hungbank = Banks('hung', 100)\n",
    "print(hungbank.name.title())\n"
   ]
  },
  {
   "cell_type": "code",
   "execution_count": null,
   "metadata": {},
   "outputs": [],
   "source": [
    "# 类的定义与使用10\n",
    "class Dog:\n",
    "    \"\"\"一次模拟小狗的简单尝试。\"\"\"\n",
    "\n",
    "    def __init__(self, name, age):\n",
    "        \"\"\"初始化属性name和age。\"\"\"\n",
    "        self.name = name\n",
    "        self.age = age\n",
    "\n",
    "    def sit(self):\n",
    "        \"\"\"模拟小狗收到命令时蹲下。\"\"\"\n",
    "        print(f\"{self.name} 现在坐着.\")\n",
    "\n",
    "    def roll_over(self):\n",
    "        \"\"\"模拟小狗收到命令时打滚。\"\"\"\n",
    "        print(f\"{self.name} 翻滚!\")\n",
    "\n",
    "\n",
    "my_dog = Dog('Willie', 6)\n",
    "your_dog = Dog('Lucy', 3)\n",
    "print(f\"My dog's name is {my_dog.name}.\")\n",
    "print(f\"My dog is {my_dog.age} years old.\")\n",
    "my_dog.sit()\n",
    "print(f\"\\nYour dog's name is {your_dog.name}.\")\n",
    "print(f\"Your dog is {your_dog.age} years old.\")\n",
    "your_dog.sit()\n"
   ]
  }
 ],
 "metadata": {
  "kernelspec": {
   "display_name": "Python 3.9.12 ('py39')",
   "language": "python",
   "name": "python3"
  },
  "language_info": {
   "codemirror_mode": {
    "name": "ipython",
    "version": 3
   },
   "file_extension": ".py",
   "mimetype": "text/x-python",
   "name": "python",
   "nbconvert_exporter": "python",
   "pygments_lexer": "ipython3",
   "version": "3.9.12"
  },
  "vscode": {
   "interpreter": {
    "hash": "a53f9004b2967cf231bcc725233179e02662bdca2dc7a6c6f48263bde11e4842"
   }
  }
 },
 "nbformat": 4,
 "nbformat_minor": 0
}
