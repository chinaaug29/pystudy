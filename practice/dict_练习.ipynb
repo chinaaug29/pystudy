{
 "cells": [
  {
   "cell_type": "markdown",
   "metadata": {
    "pycharm": {
     "name": "#%% md\n"
    }
   },
   "source": [
    "# 字典\n",
    "- 字典的基本操作\n",
    "- 遍历字典\n",
    "- 建立字典列表\n",
    "- 字典内含列表\n",
    "- 字典内含字典\n",
    "- while 循环在字典的应用\n",
    "- 字典常用的函数与方法"
   ]
  },
  {
   "cell_type": "markdown",
   "metadata": {
    "pycharm": {
     "name": "#%% md\n"
    }
   },
   "source": [
    "# 字典常用函数和方法\n",
    "- del  删除字典特定元素\n",
    "- clear( ) 方法删除字典的所有元素\n",
    "- del name_dict   # 可删除字典name_dict\n",
    "- new_dict = name_dict.copy( )  # name_dict会被复制至new_dict\n",
    "- length = len(name_dict) # 将返回name_dict字典的元素数量给length,获得字典的长度\n",
    "- 键 in name_dict   # 可验证键元素是否存在\n",
    "- 方法items( )，可以让我们取得字典键-值配对的元素,可以使用for循环加上items()方法遍历字典\n",
    "- 方法keys( )，可以让我们取得字典的键内容,使用for循环加上keys( )方法,遍历字典内的键\n",
    "- 方法values()，可以让我们取得字典值列表,使用for循环加上values( )方法,遍历字典内的值\n",
    "- 方法sorted( ),遍历字典同时列出排序结果\n",
    "- get() 在指定的键不存在时返回一个默认值，从而避免错误提示\n",
    "- setdefault( ),方法时若所搜寻的键不在，会将键-值加入字典，如果有设定默认值则将键:默认值加入字典，如果没有设定默认值则将键:None加入字典。\n",
    "- zip()函数的用法"
   ]
  },
  {
   "cell_type": "code",
   "execution_count": null,
   "metadata": {
    "pycharm": {
     "name": "#%%\n"
    }
   },
   "outputs": [],
   "source": [
    "# 字典的基本操作\n",
    "# 字典的值(value)可以是任何Python的对象，可以是数值、字符串、列表等。\n",
    "new_dict = {'西瓜': 15, '香蕉': 20, '水蜜桃': 25}  # 字典里的数据是配对，键1:值1，...\n",
    "new_dict1 = {'牛肉面': 100, '肉丝面': 80, '阳春面': 60}\n",
    "print(new_dict)\n",
    "print(new_dict1)\n",
    "print('字典ne_dict数据类型', type(new_dict))\n"
   ]
  },
  {
   "cell_type": "code",
   "execution_count": null,
   "metadata": {
    "pycharm": {
     "name": "#%%\n"
    }
   },
   "outputs": [],
   "source": [
    "# 访问字典的值\n",
    "new_dict = {'西瓜': 15, '香蕉': 20, '水蜜桃': 25}  # 字典里的数据是配对，键1:值1，...\n",
    "new_dict1 = {'牛肉面': 100, '肉丝面': 80, '阳春面': 60}\n",
    "print('香蕉的价格是{0:4.2f}:'.format(new_dict['香蕉']))\n"
   ]
  },
  {
   "cell_type": "code",
   "execution_count": 10,
   "metadata": {
    "pycharm": {
     "name": "#%%\n"
    }
   },
   "outputs": [
    {
     "name": "stdout",
     "output_type": "stream",
     "text": [
      "{'西瓜': 15, '香蕉': 20, '水蜜桃': 25}\n",
      "{'西瓜': 15, '香蕉': 20, '水蜜桃': 25, '牛肉面': 100, '阳春面': 60}\n"
     ]
    }
   ],
   "source": [
    "# 添加键值对\n",
    "new_dict = {'西瓜': 15, '香蕉': 20, '水蜜桃': 25}\n",
    "print(new_dict)\n",
    "new_dict['牛肉面'] = 100  # 添加字典数据值是用=号赋值给键\n",
    "new_dict['阳春面'] = 60\n",
    "print(new_dict)\n"
   ]
  },
  {
   "cell_type": "code",
   "execution_count": 13,
   "metadata": {
    "pycharm": {
     "name": "#%%\n"
    }
   },
   "outputs": [
    {
     "name": "stdout",
     "output_type": "stream",
     "text": [
      "{'天气': '晴天', '温度': 39, '城市': '武汉'}\n"
     ]
    }
   ],
   "source": [
    "# 添加字典数据\n",
    "new_dict_list = {}\n",
    "new_dict_list['天气'] = '晴天'\n",
    "new_dict_list['温度'] = 39\n",
    "new_dict_list['城市'] = '武汉'\n",
    "print(new_dict_list)\n"
   ]
  },
  {
   "cell_type": "code",
   "execution_count": 15,
   "metadata": {
    "pycharm": {
     "name": "#%%\n"
    }
   },
   "outputs": [
    {
     "name": "stdout",
     "output_type": "stream",
     "text": [
      "{'天气': '晴天', '温度': 39, '城市': '武汉'}\n",
      "{'天气': '大雨', '温度': 30, '城市': '上海'}\n"
     ]
    }
   ],
   "source": [
    "# 修改字典的值\n",
    "new_dict_list = {}\n",
    "new_dict_list['天气'] = '晴天'\n",
    "new_dict_list['温度'] = 39\n",
    "new_dict_list['城市'] = '武汉'\n",
    "print(new_dict_list)\n",
    "new_dict_list['城市'] = '上海'\n",
    "new_dict_list['温度'] = 30\n",
    "new_dict_list['天气'] = '大雨'\n",
    "print(new_dict_list)\n"
   ]
  },
  {
   "cell_type": "code",
   "execution_count": 19,
   "metadata": {
    "pycharm": {
     "name": "#%%\n"
    }
   },
   "outputs": [
    {
     "name": "stdout",
     "output_type": "stream",
     "text": [
      "{'天气': '晴天', '温度': 39, '城市': '武汉'}\n",
      "字典长度是:   2\n"
     ]
    }
   ],
   "source": [
    "# 删除字典数据\n",
    "new_dict_list = {}\n",
    "new_dict_list['天气'] = '晴天'\n",
    "new_dict_list['温度'] = 39\n",
    "new_dict_list['城市'] = '武汉'\n",
    "print(new_dict_list)\n",
    "del new_dict_list['温度']\n",
    "dict_len = len(new_dict_list)  # 获得字典长度赋值给新变量\n",
    "print(f'字典长度是:{dict_len:4d}')\n"
   ]
  },
  {
   "cell_type": "code",
   "execution_count": 3,
   "metadata": {},
   "outputs": [
    {
     "name": "stdout",
     "output_type": "stream",
     "text": [
      "Sarah 喜欢的变成语言是 C.\n"
     ]
    }
   ],
   "source": [
    "# 由类似对象组成字典\n",
    "favorite_languages = {  # 采用这种方式输入字典信息，阅读源码时字典信息清晰\n",
    "    'jen': 'python',\n",
    "    'sarah': 'c',\n",
    "    'edward': 'ruby',\n",
    "    'phil': 'python',  # 在最后一个键值对后面也加上逗号，为以后在下一行添加键值对做好准备。\n",
    "}\n",
    "language = favorite_languages['sarah'].title()\n",
    "print(f\"Sarah 喜欢的变成语言是 {language}.\")\n"
   ]
  },
  {
   "cell_type": "code",
   "execution_count": 6,
   "metadata": {},
   "outputs": [
    {
     "name": "stdout",
     "output_type": "stream",
     "text": [
      "{'天气': '晴天', '温度': 39, '城市': '武汉'}\n",
      "new_dict_list里没有广州的信息!\n",
      "None\n"
     ]
    }
   ],
   "source": [
    "# get方法的应用\n",
    "# ret_value = dict.get(key[, default=none]) # dict是欲搜寻的字典\n",
    "new_dict_list = {}\n",
    "new_dict_list['天气'] = '晴天'  # 添加字典键值对\n",
    "new_dict_list['温度'] = 39\n",
    "new_dict_list['城市'] = '武汉'\n",
    "print(new_dict_list)\n",
    "new_dict_list['城市'] = '上海'  # 更改字典元素内容\n",
    "new_dict_list['温度'] = 30\n",
    "new_dict_list['天气'] = '大雨'\n",
    "# print(new_dict_list['广州'])\n",
    "# get方法搜索字典无广州键,返回设置的提示信息\n",
    "print(new_dict_list.get('广州', 'new_dict_list里没有广州的信息!'))\n",
    "print(new_dict_list.get('北京'))   # get方法搜索字典无北京键,返回默认信息None\n"
   ]
  },
  {
   "cell_type": "code",
   "execution_count": 14,
   "metadata": {},
   "outputs": [
    {
     "name": "stdout",
     "output_type": "stream",
     "text": [
      "value =  25\n",
      "fruits字典 {'Apple': 20, 'Orange': 25}\n",
      "原字典内容 {'name': 'john'}\n",
      "age= None\n",
      "增加sex键 {'name': 'john', 'age': None, 'sex': 'Male'}\n",
      "sex= Male\n",
      "new_person的内存地址:2175438801664 \n",
      " person的内存地址是:2175419864960\n",
      "new_person1深copy地址:2175445756544 \n",
      " perso深copy地址是:2175419864960\n",
      "new_person字典的长度为3\n",
      "name不存在\n",
      "age存在\n",
      "sex存在\n",
      "person dict={'name': 'john', 'age': None, 'sex': 'Male'}\n",
      "new_person dict is ={'name': 'john', 'age': None, 'sex': 'Male'}\n",
      "传回删除元素的值: 删除的内容不存在!\n",
      "删除元素后的dict内容: {'name': 'john', 'age': None, 'sex': 'Male'}\n",
      "删除sex后{'name': 'john', 'age': None}\n",
      "清空字典后{}\n"
     ]
    }
   ],
   "source": [
    "# setdefault( )方法搜寻元素,元素存在返回元素的值,元素不存在,添加键,默认值为None\n",
    "# ret_value = dict.setdefault(key[, default=none])  # dict是欲搜寻的字典\n",
    "import copy\n",
    "\n",
    "fruites = {'Apple': 20, 'Orange': 25}\n",
    "ret_valuel = fruites.setdefault('Orange')  # 在字典里搜索键\n",
    "print('value = ', ret_valuel)  # 键存在返回键的值\n",
    "print('fruits字典', fruites)\n",
    "\n",
    "person = {'name': 'john'}\n",
    "print('原字典内容', person)\n",
    "# age键不存在\n",
    "age = person.setdefault('age')  # 在字典里搜索键\n",
    "print('age=', age)  # 字典里不存在age这个键,所以添加该键,值默认为None\n",
    "# sex键不存在\n",
    "sex = person.setdefault('sex', 'Male')  # 在字典里搜索键sex,值为Male\n",
    "print('增加sex键', person)  # 字典里不存在age这个键,添加该键,值为Male\n",
    "print('sex=', sex)\n",
    "\n",
    "\n",
    "# 字典的复制 浅copy\n",
    "new_person = person.copy()  # 浅copy,观察2个字典的内存地址区别\n",
    "print(f'new_person的内存地址:{id(new_person)}',\n",
    "      '\\n', f'person的内存地址是:{id(person)}', )\n",
    "new_person1 = copy.deepcopy(person)  # deepcopy,观察2个字典的内存地址区别\n",
    "print(f'new_person1深copy地址:{id(new_person1)}',\n",
    "      '\\n', f'perso深copy地址是:{id(person)}', )\n",
    "\n",
    "# len()取得字典元素数量\n",
    "length = len(new_person)\n",
    "print(f'new_person字典的长度为{length}')\n",
    "\n",
    "\n",
    "# 验证元素是否在字典内\n",
    "if 'name' in fruites:\n",
    "    print('name存在')\n",
    "else:\n",
    "    print('name不存在')\n",
    "if 'age' in person:\n",
    "    print('age存在')\n",
    "else:\n",
    "    print('age不存在')\n",
    "if 'sex' in new_person:  # 注意键的数据类型,类型错误结果也会错误\n",
    "    print('sex存在')\n",
    "else:\n",
    "    print('sex不存在')\n",
    "print(f'person dict={person}')\n",
    "print(f'new_person dict is ={new_person}')\n",
    "\n",
    "# pop删除字典\n",
    "pop_person = person.pop('num', '删除的内容不存在!')\n",
    "print('传回删除元素的值:', pop_person)\n",
    "print('删除元素后的dict内容:', person)\n",
    "# 删除字典特定元素\n",
    "del person['sex']\n",
    "print(f'删除sex后{person}')\n",
    "# 删除字典所有元素\n",
    "person.clear()\n",
    "print(f'清空字典后{person}')\n"
   ]
  },
  {
   "cell_type": "code",
   "execution_count": 23,
   "metadata": {},
   "outputs": [
    {
     "name": "stdout",
     "output_type": "stream",
     "text": [
      "原字典内容 {'name': 'john'}\n",
      "age= None\n",
      "增加sex键 {'name': 'john', 'age': None, 'sex': 'Male'}\n",
      "sex= Male\n",
      "传回删除元素的值: 删除的内容不存在!\n",
      "删除元素后的dict内容: {'name': 'john', 'age': None, 'sex': 'Male'}\n"
     ]
    }
   ],
   "source": [
    "# pop()方法可以删除字典元素\n",
    "# ret_value = dict.pop(key[, default]) # dict是欲删除元素的字典\n",
    "# 建立一个字典\n",
    "person = {'name': 'john'}\n",
    "print('原字典内容', person)\n",
    "# age键不存在\n",
    "age = person.setdefault('age')  # 在字典里搜索键\n",
    "print('age=', age)  # 字典里不存在age这个键,添加该键,值默认为None\n",
    "# sex键不存在\n",
    "sex = person.setdefault('sex', 'Male')  # 在字典里搜索键sex,值为Male\n",
    "print('增加sex键', person)  # 字典里不存在age键,添加该键,值为Male\n",
    "print('sex=', sex)\n",
    "# pop删除字典\n",
    "pop_person = person.pop('num', '删除的内容不存在!')\n",
    "print('传回删除元素的值:', pop_person)\n",
    "print('删除元素后的dict内容:', person)\n"
   ]
  },
  {
   "cell_type": "code",
   "execution_count": 3,
   "metadata": {},
   "outputs": [
    {
     "name": "stdout",
     "output_type": "stream",
     "text": [
      "字典1 {'name': None, 'city': None}\n",
      "字典2 {'name': 'chicago', 'city': 'chicago'}\n",
      "字典3 {'name': None, 'city': None}\n",
      "字典4 {'name': 'New York', 'city': 'New York'}\n"
     ]
    }
   ],
   "source": [
    "# fromkeys( ),seq序列建立字典，序列内容将是字典的键，如果没有设定value则用None当字典键的值\n",
    "# name_dict = dict.fromkeys(seq[, value]) # 使用seq序列建立字典\n",
    "seq1 = ['name', 'city']\n",
    "list_dict1 = dict.fromkeys(seq1)\n",
    "print('字典1', list_dict1)\n",
    "list_dict2 = dict.fromkeys(seq1, 'chicago')\n",
    "print('字典2', list_dict2)\n",
    "seq2 = ['name', 'city']\n",
    "tup_dict1 = dict.fromkeys(seq2)\n",
    "print('字典3', tup_dict1)\n",
    "tup_dict2 = dict.fromkeys(seq2, 'New York')\n",
    "print('字典4', tup_dict2)\n"
   ]
  },
  {
   "cell_type": "code",
   "execution_count": 8,
   "metadata": {},
   "outputs": [
    {
     "name": "stdout",
     "output_type": "stream",
     "text": [
      "\n",
      "以下是市场调查结果!\n",
      "123 梦幻旅游景点: 65\n"
     ]
    }
   ],
   "source": [
    "# while 循环在字典的应用\n",
    "survey_dict = {}  # 建立市场调查空字典\n",
    "market_survey = True  # 设置while循环开布尔值.while目前是一个无限循环,一定要设置退出语句\n",
    "\n",
    "\n",
    "# 读取参加市场调查者姓名和景点\n",
    "while market_survey:\n",
    "    name = input('\\n请输入姓名: ')\n",
    "    travel_location = input(\"梦幻旅游景点:  \")\n",
    "\n",
    "  # 将输入存入survey_dict字典\n",
    "    survey_dict[name] = travel_location\n",
    "\n",
    "  # 控制决定是否退出市场调查循环\n",
    "    close_while = input('是否有人要继续参加市场调查?(y/n)')\n",
    "    if close_while != 'y':\n",
    "        market_survey = False\n",
    "\n",
    "# 市场调查结束,输出结果\n",
    "print(\"\\n以下是市场调查结果!\")\n",
    "for user, location in survey_dict.items():\n",
    "    print(user, '梦幻旅游景点:', location)\n"
   ]
  },
  {
   "cell_type": "code",
   "execution_count": 1,
   "metadata": {},
   "outputs": [
    {
     "name": "stdout",
     "output_type": "stream",
     "text": [
      "set len:29\n",
      "list1 len37\n",
      "list2 len37\n",
      "{}\n",
      "{'艺术学理论类', '教育学类', '航空航天类', '工商管理类', '矿业类', '交通运输类', '历史学类', '动物生产类', '公共管理类', '公安技术类', '电子信息类', '化学类', '自然保护与环境生态类', '土木类', '大气科学类', '植物生产类', '医学技术类', '电气类', '音乐与舞蹈学类', '公安学类', '能源动力类', '动物医学类', '美术学类', '自动化类', '机械类', '物理学类', '社会学类', '公共卫生与预防医学类', '计算机类'}\n"
     ]
    }
   ],
   "source": [
    "# 遍历字典\n",
    "specialty_list: list = ['社会学类',\n",
    "                        '公安学类',\n",
    "                        '公安学类',\n",
    "                        '教育学类',\n",
    "                        '历史学类',\n",
    "                        '物理学类',\n",
    "                        '化学类',\n",
    "                        '大气科学类',\n",
    "                        '机械类',\n",
    "                        '机械类',\n",
    "                        '机械类',\n",
    "                        '能源动力类',\n",
    "                        '电气类',\n",
    "                        '电子信息类',\n",
    "                        '电子信息类',\n",
    "                        '自动化类',\n",
    "                        '计算机类',\n",
    "                        '土木类',\n",
    "                        '矿业类',\n",
    "                        '交通运输类',\n",
    "                        '航空航天类',\n",
    "                        '公安技术类',\n",
    "                        '植物生产类',\n",
    "                        '自然保护与环境生态类',\n",
    "                        '动物生产类',\n",
    "                        '动物生产类',\n",
    "                        '动物医学类',\n",
    "                        '公共卫生与预防医学类',\n",
    "                        '医学技术类',\n",
    "                        '医学技术类',\n",
    "                        '工商管理类',\n",
    "                        '公共管理类',\n",
    "                        '公共管理类',\n",
    "                        '公共管理类',\n",
    "                        '艺术学理论类',\n",
    "                        '音乐与舞蹈学类',\n",
    "                        '美术学类',\n",
    "                        ]\n",
    "specialty_list2: list = ['030307T',\n",
    "                         '030621TK',\n",
    "                         '030622TK',\n",
    "                         '040113T',\n",
    "                         '060108T',\n",
    "                         '070206T',\n",
    "                         '070306T',\n",
    "                         '070603T',\n",
    "                         '080217T',\n",
    "                         '080218T',\n",
    "                         '080219T',\n",
    "                         '080505T',\n",
    "                         '080607T',\n",
    "                         '080719T',\n",
    "                         '080720T',\n",
    "                         '080808T',\n",
    "                         '080918TK',\n",
    "                         '081011T',\n",
    "                         '081507T',\n",
    "                         '081811T',\n",
    "                         '082010T',\n",
    "                         '083112TK',\n",
    "                         '090115T',\n",
    "                         '090205T',\n",
    "                         '090306T',\n",
    "                         '090307T',\n",
    "                         '090406TK',\n",
    "                         '100406T',\n",
    "                         '101012T',\n",
    "                         '101013T',\n",
    "                         '120216T',\n",
    "                         '120415TK',\n",
    "                         '120416TK',\n",
    "                         '120417T',\n",
    "                         '130103T',\n",
    "                         '130212T',\n",
    "                         '130411T',\n",
    "                         ]\n",
    "specialty_set = set(specialty_list)\n",
    "specialty_dict = {}\n",
    "print(f'set len:{len(specialty_set)}')\n",
    "print(f'list1 len{len(specialty_list)}')\n",
    "print(f'list2 len{len(specialty_list2)}')\n",
    "print(specialty_dict)\n",
    "print(specialty_set)\n"
   ]
  },
  {
   "cell_type": "code",
   "execution_count": 23,
   "metadata": {},
   "outputs": [
    {
     "name": "stdout",
     "output_type": "stream",
     "text": [
      "e 5\n",
      "d 4\n",
      "c 3\n",
      "b 2\n",
      "a 1\n",
      "{'e': 5, 'd': 4, 'c': 3, 'b': 2, 'a': 1}\n",
      "['a', 'b', 'c', 'd', 'e']\n",
      "[1, 2, 3, 4, 5]\n"
     ]
    }
   ],
   "source": [
    "list1 = [1, 2, 3, 4, 5]\n",
    "list2 = ['a', 'b', 'c', 'd', 'e']\n",
    "dict1 = {}\n",
    "i = -1\n",
    "for j in list2[::-1]:  # 逆序循环\n",
    "    b = list1.pop()\n",
    "    dict1[j] = b\n",
    "\n",
    "for name, values in dict1.items():\n",
    "    print(name, values)\n",
    "dict2 = sorted(dict1.keys())\n",
    "dict3 = sorted(dict1.values())\n",
    "print(dict1,dict2, dict3,sep='\\n')\n"
   ]
  },
  {
   "cell_type": "markdown",
   "metadata": {},
   "source": [
    "# 习题\n",
    "- 使用一个字典来存储一个熟人的信息，包括名、姓、年龄和居住的城市。该字典应包含键first_name 、last_name 、age 和city 。将存储在该典中的每项信息都打印出来。\n",
    "- 使用一个字典来存储一些人喜欢的数。请想出5个人的名字，并将这些名字用作字典中的键；找出每个人喜欢的一个数，并将这些数作为值存储在字典中。打印每个人的名字和喜欢的数。为了让这个程序更有趣，通过询问朋友确保数据是真实的。\n",
    "- Python字典可用于模拟现实生活中的字典。为避免混淆，我们将后者称为词汇表。\n",
    "    - 想出你在前面学过的5个编程术语，将其用作词汇表中的键，并将它们的含义作为值存储在词汇表中。\n",
    "    - 以整洁的方式打印每个术语及其含义。为此，可先打印术语，在它后面加上一个冒号，再打印其含义；也可在一行打印术语，再使用换行符（\\n ）插入一个空行，然后在下一行以缩进的方式打印其含义。\n"
   ]
  },
  {
   "cell_type": "code",
   "execution_count": 11,
   "metadata": {},
   "outputs": [
    {
     "name": "stdout",
     "output_type": "stream",
     "text": [
      "{'first_name': '元霸', 'last_name ': '李', 'age': (40,), 'city': '长安'}\n"
     ]
    }
   ],
   "source": [
    "per_information = {\n",
    "    'first_name':  '世民',\n",
    "    'last_name ': '李',\n",
    "    'age': 42,\n",
    "    'city': '洛阳',\n",
    "}\n",
    "per_information['first_name'] = '元霸'\n",
    "per_information['last_name '] = '李'\n",
    "per_information['age'] = 40,\n",
    "per_information['city'] = '长安'\n",
    "print(per_information)\n"
   ]
  }
 ],
 "metadata": {
  "kernelspec": {
   "display_name": "Python 3.7.13 ('py37')",
   "language": "python",
   "name": "python3"
  },
  "language_info": {
   "codemirror_mode": {
    "name": "ipython",
    "version": 3
   },
   "file_extension": ".py",
   "mimetype": "text/x-python",
   "name": "python",
   "nbconvert_exporter": "python",
   "pygments_lexer": "ipython3",
   "version": "3.7.13"
  },
  "orig_nbformat": 4,
  "vscode": {
   "interpreter": {
    "hash": "9b6867c453102d05d83e137def2fb8debf2eb8d03d48f5eafc3550ba0eefc553"
   }
  }
 },
 "nbformat": 4,
 "nbformat_minor": 2
}
